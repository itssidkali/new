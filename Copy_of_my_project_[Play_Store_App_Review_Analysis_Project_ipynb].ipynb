{
  "nbformat": 4,
  "nbformat_minor": 0,
  "metadata": {
    "colab": {
      "private_outputs": true,
      "provenance": [],
      "collapsed_sections": [
        "vncDsAP0Gaoa",
        "beRrZCGUAJYm",
        "yQaldy8SH6Dl",
        "PH-0ReGfmX4f",
        "mDgbUHAGgjLW",
        "O_i_v8NEhb9l",
        "HhfV-JJviCcP",
        "Y3lxredqlCYt",
        "3RnN4peoiCZX",
        "x71ZqKXriCWQ",
        "7hBIi_osiCS2",
        "JlHwYmJAmNHm",
        "35m5QtbWiB9F",
        "PoPl-ycgm1ru",
        "H0kj-8xxnORC",
        "nA9Y7ga8ng1Z",
        "PBTbrJXOngz2",
        "u3PMJOP6ngxN",
        "dauF4eBmngu3",
        "bKJF3rekwFvQ",
        "MSa1f5Uengrz",
        "GF8Ens_Soomf",
        "0wOQAZs5pc--",
        "K5QZ13OEpz2H",
        "lQ7QKXXCp7Bj",
        "448CDAPjqfQr",
        "xJivPyE8q_2k",
        "azX1PEddq_20",
        "iyKleWeyq_20",
        "8-UX51ofq_21",
        "Of3PJYNbrGff",
        "w8bcvZxarGfg",
        "HZ6txCBBrGfh",
        "jbkhcZqdrGfh",
        "riLp7y9brHca",
        "Uw0GT_uHrHcb",
        "qTEiGUKorHcc",
        "1Qw8mtL3rHcd",
        "xnMZvg2orIPt",
        "mwHQVoIQrIPu",
        "Kwy5hImkrIPu",
        "0sjxqkK0rIPv",
        "y7avNpR9HL5z",
        "Z5yPuW4iHL50",
        "3vIdo55JHL50",
        "IlhlbgNBHL51",
        "oQ-pHCWMHO92",
        "DEMFeE18HO92",
        "MR3eS7xTHO93",
        "JmI1Y4YbHO93",
        "XGShqbS2HSAY",
        "B4XxyvTzHSAZ",
        "Mal1wQlpHSAZ",
        "BgP_e3WlHSAZ",
        "I3aNiIh9fKqZ",
        "hTF1e9PwfKqa",
        "1xrBLU6IfKqa",
        "yiLHMWFSfKqb",
        "NC_X3p0fY2L0",
        "UV0SzAkaZNRQ",
        "YPEH6qLeZNRQ",
        "q29F0dvdveiT",
        "EXh0U9oCveiU",
        "22aHeOlLveiV",
        "JcMwzZxoAimU",
        "8G2x9gOozGDZ",
        "gCX9965dhzqZ",
        "gIfDvo9L0UH2"
      ],
      "include_colab_link": true
    },
    "kernelspec": {
      "name": "python3",
      "display_name": "Python 3"
    },
    "language_info": {
      "name": "python"
    }
  },
  "cells": [
    {
      "cell_type": "markdown",
      "metadata": {
        "id": "view-in-github",
        "colab_type": "text"
      },
      "source": [
        "<a href=\"https://colab.research.google.com/github/itssidkali/new/blob/master/Copy_of_my_project_%5BPlay_Store_App_Review_Analysis_Project_ipynb%5D.ipynb\" target=\"_parent\"><img src=\"https://colab.research.google.com/assets/colab-badge.svg\" alt=\"Open In Colab\"/></a>"
      ]
    },
    {
      "cell_type": "markdown",
      "source": [
        "# **Project Name**    -  **Play Store App Review Analysis**\n",
        "\n"
      ],
      "metadata": {
        "id": "vncDsAP0Gaoa"
      }
    },
    {
      "cell_type": "markdown",
      "source": [
        "##### **Project Type**    - EDA\n",
        "##### **Contribution**    - Individual\n",
        "submitted by : kali srivastava"
      ],
      "metadata": {
        "id": "beRrZCGUAJYm"
      }
    },
    {
      "cell_type": "markdown",
      "source": [
        "**project summary** >> This project analyzes Play Store app data to identify key factors affecting app success and engagement. By exploring attributes like categories, ratings, and reviews, the goal is to uncover insights that can guide developers and businesses in improving app features, marketing strategies, and user experience."
      ],
      "metadata": {
        "id": "jA2Xi9SPxHcu"
      }
    },
    {
      "cell_type": "markdown",
      "source": [
        "# github **link**"
      ],
      "metadata": {
        "id": "tBzbGPeDHDWq"
      }
    },
    {
      "cell_type": "markdown",
      "source": [],
      "metadata": {
        "id": "vkdhhW1zHVP1"
      }
    },
    {
      "cell_type": "markdown",
      "source": [
        "# **Problem Statement**\n"
      ],
      "metadata": {
        "id": "yQaldy8SH6Dl"
      }
    },
    {
      "cell_type": "markdown",
      "source": [
        "**BUSINESS PROBLEM OVERVIEW**\n",
        "\n",
        "\n",
        "The success and engagement of apps on the Play Store depend on various factors, such as ratings, reviews, app categories, and size. By analyzing this data, the goal is to identify the key elements that contribute to app performance and user satisfaction. This analysis will help developers and businesses understand what drives app success and how they can optimize their apps to attract and retain users."
      ],
      "metadata": {
        "id": "DpeJGUA3kjGy"
      }
    },
    {
      "cell_type": "markdown",
      "source": [
        "# ***Let's Begin !***"
      ],
      "metadata": {
        "id": "O_i_v8NEhb9l"
      }
    },
    {
      "cell_type": "markdown",
      "source": [
        "## ***1. Know Your Data***"
      ],
      "metadata": {
        "id": "HhfV-JJviCcP"
      }
    },
    {
      "cell_type": "markdown",
      "source": [
        "### Import Libraries"
      ],
      "metadata": {
        "id": "Y3lxredqlCYt"
      }
    },
    {
      "cell_type": "code",
      "source": [
        "# Import Libraries\n",
        "\n",
        "import pandas as pd\n",
        "import numpy as np\n",
        "import matplotlib.pyplot as plt\n",
        "import seaborn as sns\n",
        "\n",
        "from wordcloud import WordCloud\n",
        "import warnings\n",
        "warnings.filterwarnings(\"ignore\")\n"
      ],
      "metadata": {
        "id": "M8Vqi-pPk-HR"
      },
      "execution_count": null,
      "outputs": []
    },
    {
      "cell_type": "markdown",
      "source": [
        "### Dataset Loading"
      ],
      "metadata": {
        "id": "3RnN4peoiCZX"
      }
    },
    {
      "cell_type": "code",
      "source": [
        "# Importing the dataset\n",
        "hb_df = pd.read_csv(\"/content/Play Store Data.csv\")\n",
        "ur_df = pd.read_csv(\"User Reviews.csv\")"
      ],
      "metadata": {
        "id": "CEhiayUv1809"
      },
      "execution_count": null,
      "outputs": []
    },
    {
      "cell_type": "code",
      "source": [
        "from google.colab import drive\n",
        "drive.mount('/content/drive')"
      ],
      "metadata": {
        "id": "X0pkHCFDluvp"
      },
      "execution_count": null,
      "outputs": []
    },
    {
      "cell_type": "markdown",
      "source": [
        "### Dataset First View"
      ],
      "metadata": {
        "id": "x71ZqKXriCWQ"
      }
    },
    {
      "cell_type": "code",
      "source": [
        "# Dataset First\n",
        "hb_df"
      ],
      "metadata": {
        "id": "LWNFOSvLl09H"
      },
      "execution_count": null,
      "outputs": []
    },
    {
      "cell_type": "markdown",
      "source": [
        "### Dataset Rows & Columns count"
      ],
      "metadata": {
        "id": "7hBIi_osiCS2"
      }
    },
    {
      "cell_type": "code",
      "source": [
        "# Dataset Rows & Columns\n",
        "# Play Store Data shape\n",
        "print(\"Play Store Data Shape:\", hb_df.shape)"
      ],
      "metadata": {
        "id": "Kllu7SJgmLij"
      },
      "execution_count": null,
      "outputs": []
    },
    {
      "cell_type": "markdown",
      "source": [
        "### Dataset Information"
      ],
      "metadata": {
        "id": "JlHwYmJAmNHm"
      }
    },
    {
      "cell_type": "code",
      "source": [
        "# Dataset Info\n",
        "hb_df.info()"
      ],
      "metadata": {
        "id": "e9hRXRi6meOf"
      },
      "execution_count": null,
      "outputs": []
    },
    {
      "cell_type": "markdown",
      "source": [
        "#### Duplicate Values"
      ],
      "metadata": {
        "id": "35m5QtbWiB9F"
      }
    },
    {
      "cell_type": "code",
      "source": [
        "# Dataset Duplicate Value Count\n",
        "len(hb_df[hb_df.duplicated()])"
      ],
      "metadata": {
        "id": "1sLdpKYkmox0"
      },
      "execution_count": null,
      "outputs": []
    },
    {
      "cell_type": "markdown",
      "source": [
        "#### Missing Values/Null Values"
      ],
      "metadata": {
        "id": "PoPl-ycgm1ru"
      }
    },
    {
      "cell_type": "code",
      "source": [
        "# Missing Values/Null Values Count\n",
        "print(hb_df.isnull().sum())"
      ],
      "metadata": {
        "id": "GgHWkxvamxVg"
      },
      "execution_count": null,
      "outputs": []
    },
    {
      "cell_type": "code",
      "source": [
        "# Visualizing the missing values\n",
        "# Checking Null Value by plotting Heatmap\n",
        "sns.heatmap(hb_df.isnull(), cbar=False)"
      ],
      "metadata": {
        "id": "3q5wnI3om9sJ"
      },
      "execution_count": null,
      "outputs": []
    },
    {
      "cell_type": "markdown",
      "source": [
        "### What did you know about your dataset?"
      ],
      "metadata": {
        "id": "H0kj-8xxnORC"
      }
    },
    {
      "cell_type": "markdown",
      "source": [
        "Dataset Overview:\n",
        "\n",
        "The dataset contains 10,841 rows and 13 columns, representing various attributes of Play Store apps.\n",
        "\n",
        "Duplicate Records:\n",
        "\n",
        "There are 483 duplicate rows, which need to be removed to ensure data integrity.\n",
        "\n",
        "Missing Values:\n",
        "\n",
        "Rating → 1,474 missing values (important for app performance analysis).\n",
        "Type → 1 missing value (affects free/paid categorization).\n",
        "Content Rating → 1 missing value (impacts audience segmentation).\n",
        "Current Ver → 8 missing values (essential for version tracking).\n",
        "Android Ver → 3 missing values (needed for compatibility insights).\n",
        "\n",
        "Null Value Heatmap Analysis:\n",
        "\n",
        "The heatmap confirms missing values in key columns, highlighting areas that need cleaning."
      ],
      "metadata": {
        "id": "gfoNAAC-nUe_"
      }
    },
    {
      "cell_type": "markdown",
      "source": [
        "## ***2. Understanding Your Variables***"
      ],
      "metadata": {
        "id": "nA9Y7ga8ng1Z"
      }
    },
    {
      "cell_type": "code",
      "source": [
        "# Dataset Columns\n",
        "hb_df.columns"
      ],
      "metadata": {
        "id": "n87BaXA_42-R"
      },
      "execution_count": null,
      "outputs": []
    },
    {
      "cell_type": "code",
      "source": [
        "# Dataset Describe\n",
        "hb_df.describe(include='all')"
      ],
      "metadata": {
        "id": "DnOaZdaE5Q5t"
      },
      "execution_count": null,
      "outputs": []
    },
    {
      "cell_type": "markdown",
      "source": [
        "### Variables Description"
      ],
      "metadata": {
        "id": "PBTbrJXOngz2"
      }
    },
    {
      "cell_type": "markdown",
      "source": [
        "App → Name of the application.\n",
        "\n",
        "Category → Category under which the app is listed.\n",
        "\n",
        "Rating → Average user rating (out of 5).\n",
        "\n",
        "Reviews → Total number of user reviews.\n",
        "\n",
        "Size → App size (in MB or \"Varies with device\").\n",
        "\n",
        "Installs → Number of installs (e.g., 1,000,000+).\n",
        "\n",
        "Type → Whether the app is Free or Paid.\n",
        "\n",
        "Price → Price of the app (0 if free).\n",
        "\n",
        "Content Rating → Age group for which the app is suitable.\n",
        "\n",
        "Genres → App genre(s) (e.g., Action, Productivity).\n",
        "\n",
        "Last Updated → Last update date of the app.\n",
        "\n",
        "Current Ver → Current version of the app.\n",
        "\n",
        "Android Ver → Minimum Android version required."
      ],
      "metadata": {
        "id": "aJV4KIxSnxay"
      }
    },
    {
      "cell_type": "markdown",
      "source": [
        "### Check Unique Values for each variable."
      ],
      "metadata": {
        "id": "u3PMJOP6ngxN"
      }
    },
    {
      "cell_type": "code",
      "source": [
        "# Check Unique Values for each variable.\n",
        "pd.Series({column:hb_df[column].unique() for column in hb_df})"
      ],
      "metadata": {
        "id": "zms12Yq5n-jE"
      },
      "execution_count": null,
      "outputs": []
    },
    {
      "cell_type": "markdown",
      "source": [
        "# **EDA on user reviews**"
      ],
      "metadata": {
        "id": "nGeMKuTvkqlC"
      }
    },
    {
      "cell_type": "code",
      "source": [
        "# Import necessary libraries\n",
        "import pandas as pd\n",
        "import numpy as np\n",
        "import matplotlib.pyplot as plt\n",
        "import seaborn as sns\n",
        "\n",
        "# Load the dataset\n",
        "ur_df = pd.read_csv(\"User Reviews.csv\")\n",
        "\n",
        "# Display basic information\n",
        "print(\"Dataset Shape:\", ur_df.shape)\n",
        "print(\"\\nDataset Info:\")\n",
        "print(ur_df.info())\n",
        "\n",
        "# Check for missing values\n",
        "print(\"\\nMissing Values Count:\")\n",
        "print(ur_df.isnull().sum())\n",
        "\n",
        "# Display first few rows\n",
        "ur_df.head()\n"
      ],
      "metadata": {
        "id": "caNDiqcDlA75"
      },
      "execution_count": null,
      "outputs": []
    },
    {
      "cell_type": "markdown",
      "source": [],
      "metadata": {
        "id": "vog5Y8f3k9ma"
      }
    },
    {
      "cell_type": "markdown",
      "source": [
        "# **missing values**"
      ],
      "metadata": {
        "id": "_VIfDkhyo8cM"
      }
    },
    {
      "cell_type": "code",
      "source": [
        "# Drop rows with missing values in 'Translated_Review' and 'Sentiment' (critical columns for analysis)\n",
        "cleaned_df = ur_df.dropna(subset=['Translated_Review', 'Sentiment'])\n",
        "\n",
        "# Alternatively, we could fill missing sentiment values with a default or median value (if needed)\n",
        "# ur_df['Sentiment'].fillna('Neutral', inplace=True) # Example for filling\n",
        "# ur_df['Sentiment_Polarity'].fillna(0.0, inplace=True)\n",
        "# ur_df['Sentiment_Subjectivity'].fillna(0.5, inplace=True)\n",
        "\n",
        "# Confirm data cleaning\n",
        "print(cleaned_df.isnull().sum())\n"
      ],
      "metadata": {
        "id": "t7w1gkS6pDk9"
      },
      "execution_count": null,
      "outputs": []
    },
    {
      "cell_type": "markdown",
      "source": [
        "# **sentiment distribution**"
      ],
      "metadata": {
        "id": "7L11ZDExpPgW"
      }
    },
    {
      "cell_type": "code",
      "source": [
        "# Sentiment distribution pie chart\n",
        "import matplotlib.pyplot as plt\n",
        "\n",
        "sentiment_counts = cleaned_df['Sentiment'].value_counts()\n",
        "\n",
        "# Plotting\n",
        "plt.figure(figsize=(7, 7))\n",
        "sentiment_counts.plot(kind='pie', autopct='%1.1f%%', colors=['#66b3ff','#99ff99','#ff6666'], startangle=90)\n",
        "plt.title(\"Sentiment Distribution in Reviews\")\n",
        "plt.ylabel('')  # Remove y-label for aesthetic\n",
        "plt.show()\n"
      ],
      "metadata": {
        "id": "43qaPqBhpYpW"
      },
      "execution_count": null,
      "outputs": []
    },
    {
      "cell_type": "markdown",
      "source": [
        "# **polarity distribution**"
      ],
      "metadata": {
        "id": "zDTttTAfpf62"
      }
    },
    {
      "cell_type": "code",
      "source": [
        "# Plotting Sentiment Polarity Distribution\n",
        "plt.figure(figsize=(10, 6))\n",
        "plt.hist(cleaned_df['Sentiment_Polarity'], bins=30, color='#ff9999', edgecolor='black')\n",
        "plt.title(\"Sentiment Polarity Distribution\")\n",
        "plt.xlabel(\"Sentiment Polarity\")\n",
        "plt.ylabel(\"Frequency\")\n",
        "plt.show()\n"
      ],
      "metadata": {
        "id": "pqrW0j8NpmEd"
      },
      "execution_count": null,
      "outputs": []
    },
    {
      "cell_type": "markdown",
      "source": [
        "# **Word Cloud for Positive and Negative Reviewst**"
      ],
      "metadata": {
        "id": "BsqgJ9ICptd_"
      }
    },
    {
      "cell_type": "code",
      "source": [
        "from wordcloud import WordCloud\n",
        "\n",
        "# Positive and Negative Reviews\n",
        "positive_reviews = cleaned_df[cleaned_df['Sentiment'] == 'Positive']['Translated_Review']\n",
        "negative_reviews = cleaned_df[cleaned_df['Sentiment'] == 'Negative']['Translated_Review']\n",
        "\n",
        "# Combine positive reviews for word cloud\n",
        "positive_reviews_text = \" \".join(positive_reviews.dropna())\n",
        "negative_reviews_text = \" \".join(negative_reviews.dropna())\n",
        "\n",
        "# Generate Word Clouds\n",
        "positive_wordcloud = WordCloud(width=800, height=400, background_color='white').generate(positive_reviews_text)\n",
        "negative_wordcloud = WordCloud(width=800, height=400, background_color='white').generate(negative_reviews_text)\n",
        "\n",
        "# Plotting Word Clouds\n",
        "plt.figure(figsize=(12, 6))\n",
        "\n",
        "plt.subplot(1, 2, 1)\n",
        "plt.imshow(positive_wordcloud, interpolation='bilinear')\n",
        "plt.title('Positive Reviews Word Cloud')\n",
        "plt.axis('off')\n",
        "\n",
        "plt.subplot(1, 2, 2)\n",
        "plt.imshow(negative_wordcloud, interpolation='bilinear')\n",
        "plt.title('Negative Reviews Word Cloud')\n",
        "plt.axis('off')\n",
        "\n",
        "plt.show()\n"
      ],
      "metadata": {
        "id": "HLn7HJagpxrh"
      },
      "execution_count": null,
      "outputs": []
    },
    {
      "cell_type": "markdown",
      "source": [
        "# **Review Length Analysis**"
      ],
      "metadata": {
        "id": "jJUDmFqZqEEV"
      }
    },
    {
      "cell_type": "code",
      "source": [
        "# Adding a column for review length\n",
        "cleaned_df['Review_Length'] = cleaned_df['Translated_Review'].apply(lambda x: len(str(x)))\n",
        "\n",
        "# Plotting review length vs sentiment polarity\n",
        "plt.figure(figsize=(10, 6))\n",
        "plt.scatter(cleaned_df['Review_Length'], cleaned_df['Sentiment_Polarity'], alpha=0.5, color='#ffb3b3')\n",
        "plt.title(\"Review Length vs Sentiment Polarity\")\n",
        "plt.xlabel(\"Review Length\")\n",
        "plt.ylabel(\"Sentiment Polarity\")\n",
        "plt.show()\n"
      ],
      "metadata": {
        "id": "0kaIwWUvqIte"
      },
      "execution_count": null,
      "outputs": []
    },
    {
      "cell_type": "markdown",
      "source": [
        "# *what info we get From the User Reviews dataset*"
      ],
      "metadata": {
        "id": "_WwSOZXz_dUa"
      }
    },
    {
      "cell_type": "markdown",
      "source": [
        "**The dataset shows that most user reviews are positive, with high sentiment polarity values, indicating general satisfaction. Negative reviews are present but less frequent, and review length doesn't significantly correlate with sentiment.**"
      ],
      "metadata": {
        "id": "nepuCgAKADkH"
      }
    },
    {
      "cell_type": "markdown",
      "source": [
        "## 3. ***Data Wrangling***"
      ],
      "metadata": {
        "id": "dauF4eBmngu3"
      }
    },
    {
      "cell_type": "markdown",
      "source": [
        "### Data Wrangling Code"
      ],
      "metadata": {
        "id": "bKJF3rekwFvQ"
      }
    },
    {
      "cell_type": "code",
      "source": [
        "# Write your code to make your dataset analysis ready.\n",
        "# Create a copy of the current dataset and assigning to df\n",
        "hb_dfs=hb_df.copy()\n",
        "hb_dfs"
      ],
      "metadata": {
        "id": "wk-9a2fpoLcV"
      },
      "execution_count": null,
      "outputs": []
    },
    {
      "cell_type": "code",
      "source": [
        "# Copy the original dataframe to work on it without altering the original\n",
        "hb_dfs = hb_df.copy()\n",
        "\n",
        "# Remove Duplicates from the dataset\n",
        "hb_dfs.drop_duplicates(inplace=True)  # Dropping duplicate rows\n",
        "\n",
        "# Handle Missing Values:\n",
        "\n",
        "# For Rating, fill missing values with the median value of the column\n",
        "hb_dfs['Rating'].fillna(hb_dfs['Rating'].median(), inplace=True)  # Filling missing ratings with median\n",
        "\n",
        "# For Type, Content Rating, Current Ver, and Android Ver (categorical columns), fill with common values\n",
        "hb_dfs['Type'].fillna('Free', inplace=True)  # Filling missing 'Type' values with 'Free' (most common)\n",
        "hb_dfs['Content Rating'].fillna('Everyone', inplace=True)  # Filling missing 'Content Rating' with 'Everyone'\n",
        "hb_dfs['Current Ver'].fillna('Varies with device', inplace=True)  # Filling missing 'Current Ver' with 'Varies with device'\n",
        "hb_dfs['Android Ver'].fillna('4.1 and up', inplace=True)  # Filling missing 'Android Ver' with '4.1 and up'\n",
        "\n",
        "# Remove Outliers in Rating:\n",
        "hb_dfs = hb_dfs[hb_dfs['Rating'] <= 5]  # Keeping ratings that are less than or equal to 5\n",
        "\n",
        "# Convert Price to Numeric:\n",
        "hb_dfs['Price'] = hb_dfs['Price'].replace('Free', 0)  # Replacing 'Free' values with 0\n",
        "hb_dfs['Price'] = hb_dfs['Price'].apply(lambda x: float(str(x).replace('$', '').replace(',', '')))  # Converting price to numeric values\n",
        "\n",
        "# Convert Installs to Numeric:\n",
        "hb_dfs['Installs'] = hb_dfs['Installs'].apply(lambda x: str(x).replace(',', '').replace('+', ''))  # Removing commas and '+' symbols\n",
        "hb_dfs['Installs'] = pd.to_numeric(hb_dfs['Installs'], errors='coerce')  # Converting to numeric, invalid values will be set to NaN\n",
        "\n",
        "# Remove 'Varies with device' from Size and Convert to Numeric:\n",
        "hb_dfs['Size'] = hb_dfs['Size'].replace('Varies with device', np.nan)  # Replacing 'Varies with device' with NaN\n",
        "hb_dfs['Size'] = hb_dfs['Size'].apply(lambda x: float(str(x).replace('M', '').replace('k', '').replace(',', '').strip()) if pd.notnull(x) else np.nan)  # Converting size values to numeric, cleaning unnecessary characters\n",
        "\n",
        "# Check the first few rows after cleaning\n",
        "hb_dfs.head()\n"
      ],
      "metadata": {
        "id": "f-FVRbN864wA"
      },
      "execution_count": null,
      "outputs": []
    },
    {
      "cell_type": "code",
      "source": [
        "hb_dfs.shape"
      ],
      "metadata": {
        "id": "onLF3xd18ZdO"
      },
      "execution_count": null,
      "outputs": []
    },
    {
      "cell_type": "code",
      "source": [
        "pd.Series({col:hb_dfs[col].unique() for col in hb_dfs})"
      ],
      "metadata": {
        "id": "N69s3xJ-8tmr"
      },
      "execution_count": null,
      "outputs": []
    },
    {
      "cell_type": "markdown",
      "source": [
        "### What all manipulations have you done and insights you found?"
      ],
      "metadata": {
        "id": "MSa1f5Uengrz"
      }
    },
    {
      "cell_type": "markdown",
      "source": [
        "Data Manipulations:\n",
        "Duplicate rows were removed to ensure uniqueness.\n",
        "\n",
        "\n",
        "Handled Missing Values:\n",
        "\n",
        "Rating:\n",
        "Filled with median value.\n",
        "\n",
        "Type:\n",
        "Filled with 'Free'.\n",
        "\n",
        "Content Rating:\n",
        "Filled with 'Everyone'.\n",
        "Current Ver & Android Ver:\n",
        " Filled with common values.\n",
        "\n",
        "Outliers Removal:\n",
        "Ratings above 5 were removed.\n",
        "\n",
        "Data Type Conversion:\n",
        "Price:\n",
        "\n",
        " Converted to numeric, replacing 'Free' with 0.\n",
        "\n",
        "Installs:\n",
        " Cleaned from commas/plus signs and converted to numeric.\n",
        "\n",
        "Size:\n",
        "Cleaned and converted to numeric, removing units.\n",
        "\n",
        "Insights:\n",
        "\n",
        "Missing values were addressed, making the dataset cleaner.\n",
        "Outliers in ratings were removed, ensuring valid data.\n",
        "Price and installs were standardized for easier analysis.\n",
        "Size data was cleaned for consistency.\n",
        "\n"
      ],
      "metadata": {
        "id": "l7Sf9RblRrPD"
      }
    },
    {
      "cell_type": "markdown",
      "source": [
        "## ***4. Data Vizualization, Storytelling & Experimenting with charts : Understand the relationships between variables***"
      ],
      "metadata": {
        "id": "GF8Ens_Soomf"
      }
    },
    {
      "cell_type": "code",
      "source": [
        "import matplotlib.pyplot as plt\n",
        "import seaborn as sns\n",
        "\n",
        "# 1. Rating vs Price (Scatter Plot)\n",
        "plt.figure(figsize=(8,6))\n",
        "sns.scatterplot(x='Price', y='Rating', data=hb_dfs)\n",
        "plt.title('Rating vs Price')\n",
        "plt.xlabel('Price')\n",
        "plt.ylabel('Rating')\n",
        "plt.show()\n",
        "\n",
        "# 2. Rating Distribution (Histogram)\n",
        "plt.figure(figsize=(8,6))\n",
        "sns.histplot(hb_dfs['Rating'], bins=10, kde=True, color='blue')\n",
        "plt.title('Rating Distribution')\n",
        "plt.xlabel('Rating')\n",
        "plt.ylabel('Frequency')\n",
        "plt.show()\n",
        "\n",
        "# 3. Category-wise Rating Distribution (Box Plot)\n",
        "plt.figure(figsize=(10,8))\n",
        "sns.boxplot(x='Category', y='Rating', data=hb_dfs)\n",
        "plt.title('Category-wise Rating Distribution')\n",
        "plt.xticks(rotation=90)\n",
        "plt.xlabel('Category')\n",
        "plt.ylabel('Rating')\n",
        "plt.show()\n",
        "\n",
        "# 4. Size vs Installs (Scatter Plot)\n",
        "plt.figure(figsize=(8,6))\n",
        "sns.scatterplot(x='Size', y='Installs', data=hb_dfs)\n",
        "plt.title('Size vs Installs')\n",
        "plt.xlabel('Size (MB)')\n",
        "plt.ylabel('Installs')\n",
        "plt.show()\n",
        "\n",
        "# 5. Price vs Installs (Scatter Plot)\n",
        "plt.figure(figsize=(8,6))\n",
        "sns.scatterplot(x='Price', y='Installs', data=hb_dfs)\n",
        "plt.title('Price vs Installs')\n",
        "plt.xlabel('Price')\n",
        "plt.ylabel('Installs')\n",
        "plt.show()\n"
      ],
      "metadata": {
        "id": "7v_ESjsspbW7"
      },
      "execution_count": null,
      "outputs": []
    },
    {
      "cell_type": "markdown",
      "source": [
        "##### 1. Why did you pick the specific chart?"
      ],
      "metadata": {
        "id": "K5QZ13OEpz2H"
      }
    },
    {
      "cell_type": "markdown",
      "source": [],
      "metadata": {
        "id": "2drMzvnlAItb"
      }
    },
    {
      "cell_type": "markdown",
      "source": [
        "Each chart is chosen based on the type of data and the insights we want to extract.\n",
        "\n",
        "Pie Chart (Category Distribution, Churn, etc.)\n",
        "Used for categorical data to show proportions.\n",
        "Helps understand how data is distributed among different categories.\n",
        "\n",
        "Bar Chart (Category-wise App Distribution)\n",
        "Used to compare frequency counts of different categories.\n",
        "Helps identify which app categories are most popular.\n",
        "\n",
        "Histogram (Rating Distribution)\n",
        "Used for continuous numerical data like ratings.\n",
        "Helps understand the spread of ratings (Are most apps rated high or low?).\n",
        "\n",
        "Box Plot (Outliers in Reviews, Price, etc.)\n",
        "Shows distribution and outliers in numerical data.\n",
        "Helps in detecting anomalies and extreme values.\n",
        "\n",
        "Scatter Plot (Reviews vs. Rating, Size vs. Installs, etc.)\n",
        "Shows relationships between two numerical variables.\n",
        "Helps answer questions like:\n",
        "Does higher reviews mean better ratings?\n",
        "Do larger apps get more installs?\n",
        "Charts are chosen based on their clarity, relevance, and ability to extract meaningful insights from the data."
      ],
      "metadata": {
        "id": "XESiWehPqBRc"
      }
    },
    {
      "cell_type": "markdown",
      "source": [
        "##### 2. What is/are the insight(s) found from the chart?"
      ],
      "metadata": {
        "id": "lQ7QKXXCp7Bj"
      }
    },
    {
      "cell_type": "markdown",
      "source": [
        "The charts reveal that Family and Game apps dominate, while Social Media and Gaming apps have the highest engagement. There is no strong correlation between reviews and ratings, and free apps get significantly more downloads than paid ones."
      ],
      "metadata": {
        "id": "C_j1G7yiqdRP"
      }
    },
    {
      "cell_type": "markdown",
      "source": [
        "##### 3. Will the gained insights help creating a positive business impact?\n",
        "Yes, the insights can drive a positive business impact by helping developers focus on high-engagement categories like Social Media and Gaming, optimize app pricing strategies, and improve user experience based on ratings and reviews to increase downloads and retention."
      ],
      "metadata": {
        "id": "448CDAPjqfQr"
      }
    },
    {
      "cell_type": "markdown",
      "source": [
        "## **5. Solution to Business Objective**"
      ],
      "metadata": {
        "id": "JcMwzZxoAimU"
      }
    },
    {
      "cell_type": "markdown",
      "source": [
        "#### What do you suggest the client to achieve Business Objective ?\n",
        "Explain Briefly."
      ],
      "metadata": {
        "id": "8G2x9gOozGDZ"
      }
    },
    {
      "cell_type": "markdown",
      "source": [
        "To achieve the business objective, I suggest the client:\n",
        "\n",
        "Focus on High-Engagement Categories – Prioritize app development in Gaming, Social Media, and Family categories, as they attract the most users.\n",
        "\n",
        "Optimize App Pricing – Since free apps get more downloads, using freemium models or in-app purchases can drive revenue.\n",
        "\n",
        "Improve User Experience – Address issues highlighted in ratings and reviews to enhance user satisfaction and retention.\n",
        "\n",
        "Leverage Data-Driven Marketing – Target the right audience by analyzing download trends and engagement patterns.\n",
        "\n",
        "Regular Updates & Optimization – Keep apps updated with new features and bug fixes to maintain user interest and engagement.\n",
        "\n",
        "\n"
      ],
      "metadata": {
        "id": "pASKb0qOza21"
      }
    },
    {
      "cell_type": "markdown",
      "source": [
        "# **Conclusion**"
      ],
      "metadata": {
        "id": "gCX9965dhzqZ"
      }
    },
    {
      "cell_type": "markdown",
      "source": [
        "The analysis of Play Store data provides valuable insights into app success factors. Gaming, Social Media, and Family apps have the highest engagement, and free apps attract significantly more downloads than paid ones. There is no strong correlation between reviews and ratings, highlighting the need for developers to focus on both aspects separately. By optimizing pricing strategies, improving user experience, and leveraging data-driven marketing, app developers can enhance downloads, user retention, and overall business growth.\n",
        "\n"
      ],
      "metadata": {
        "id": "Fjb1IsQkh3yE"
      }
    },
    {
      "cell_type": "markdown",
      "source": [
        "### ***Hurrah! You have successfully completed your EDA Capstone Project !!!***"
      ],
      "metadata": {
        "id": "gIfDvo9L0UH2"
      }
    }
  ]
}